{
  "nbformat": 4,
  "nbformat_minor": 0,
  "metadata": {
    "colab": {
      "provenance": [],
      "authorship_tag": "ABX9TyORnfJbgh1Wks1ct0Plsjjy",
      "include_colab_link": true
    },
    "kernelspec": {
      "name": "python3",
      "display_name": "Python 3"
    },
    "language_info": {
      "name": "python"
    }
  },
  "cells": [
    {
      "cell_type": "markdown",
      "metadata": {
        "id": "view-in-github",
        "colab_type": "text"
      },
      "source": [
        "<a href=\"https://colab.research.google.com/github/Rachanashenoy20/Machine-Learning/blob/main/Data_cleaning.ipynb\" target=\"_parent\"><img src=\"https://colab.research.google.com/assets/colab-badge.svg\" alt=\"Open In Colab\"/></a>"
      ]
    },
    {
      "cell_type": "code",
      "execution_count": 2,
      "metadata": {
        "colab": {
          "base_uri": "https://localhost:8080/"
        },
        "id": "GGuwVOEMFT5G",
        "outputId": "5c806e4b-6837-43cf-f4d2-a3d98a8d981b"
      },
      "outputs": [
        {
          "output_type": "stream",
          "name": "stdout",
          "text": [
            "Number of duplicate rows: 2\n",
            "Columns with only one unique value: []\n",
            "New dataset after deleting columns with only one unique value:\n",
            "      Name  Age           City  Salary\n",
            "0     John   25       New York   50000\n",
            "1    Sarah   30    Los Angeles   60000\n",
            "2    Sarah   30    Los Angeles   60000\n",
            "3    Sarah   35        Chicago   65000\n",
            "4  Michael   40  San Francisco   70000\n",
            "rachanashenoy\n",
            "4SF20CI048\n"
          ]
        }
      ],
      "source": [
        "import pandas as pd\n",
        "\n",
        "# Load the Titanic dataset\n",
        "df = pd.read_csv('/content/c (1).csv')\n",
        "\n",
        "# Identify and count duplicate rows\n",
        "duplicates = df.duplicated()\n",
        "print(\"Number of duplicate rows:\", duplicates.sum())\n",
        "# Identify columns with only one unique value\n",
        "single_value_cols = []\n",
        "for col in df.columns:\n",
        "    if df[col].nunique() == 1:\n",
        "        single_value_cols.append(col)\n",
        "print(\"Columns with only one unique value:\", single_value_cols)\n",
        "# Delete columns with only one unique value\n",
        "df.drop(single_value_cols, axis=1, inplace=True)\n",
        "print(\"New dataset after deleting columns with only one unique value:\")\n",
        "print(df.head())\n",
        "print(\"rachanashenoy\")\n",
        "print(\"4SF20CI048\")"
      ]
    },
    {
      "cell_type": "code",
      "source": [
        "import pandas as pd\n",
        "\n",
        "df = pd.read_csv('/content/c (1).csv')\n",
        "\n",
        "new_df = df.dropna()\n",
        "\n",
        "print(new_df.to_string())\n",
        "print(\"rachanashenoy\")\n",
        "print(\"4SF20CI048\")"
      ],
      "metadata": {
        "colab": {
          "base_uri": "https://localhost:8080/"
        },
        "id": "b_wJV2DycVyV",
        "outputId": "85822feb-dff7-4366-ee40-3fd9eff6835a"
      },
      "execution_count": 6,
      "outputs": [
        {
          "output_type": "stream",
          "name": "stdout",
          "text": [
            "      Name  Age           City  Salary\n",
            "0     John   25       New York   50000\n",
            "1    Sarah   30    Los Angeles   60000\n",
            "2    Sarah   30    Los Angeles   60000\n",
            "3    Sarah   35        Chicago   65000\n",
            "4  Michael   40  San Francisco   70000\n",
            "5     John   30       New York   60000\n",
            "6    Sarah   30    Los Angeles   60000\n",
            "rachanashenoy\n",
            "4SF20CI048\n"
          ]
        }
      ]
    },
    {
      "cell_type": "code",
      "source": [
        "import pandas as pd\n",
        "\n",
        "df = pd.read_csv('/content/c (1).csv')\n",
        "\n",
        "new_df = df.dropna()\n",
        "\n",
        "print(df.duplicated())\n",
        "print(\"rachanashenoy\")\n",
        "print(\"4SF20CI048\")"
      ],
      "metadata": {
        "colab": {
          "base_uri": "https://localhost:8080/"
        },
        "id": "Je1nUy60chQs",
        "outputId": "42100b56-63b8-49db-f8f7-0d392f58ebb8"
      },
      "execution_count": 7,
      "outputs": [
        {
          "output_type": "stream",
          "name": "stdout",
          "text": [
            "0    False\n",
            "1    False\n",
            "2     True\n",
            "3    False\n",
            "4    False\n",
            "5    False\n",
            "6     True\n",
            "dtype: bool\n",
            "rachanashenoy\n",
            "4SF20CI048\n"
          ]
        }
      ]
    }
  ]
}